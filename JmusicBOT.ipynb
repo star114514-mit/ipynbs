{
  "nbformat": 4,
  "nbformat_minor": 0,
  "metadata": {
    "colab": {
      "private_outputs": true,
      "provenance": [],
      "mount_file_id": "https://gist.github.com/star114514-mit/633f329eb557abf4dc5c7987cbea7c23#file-untitled12-ipynb",
      "authorship_tag": "ABX9TyPS0LZMNVB4u4ECIQ2sTEGE",
      "include_colab_link": true
    },
    "kernelspec": {
      "name": "python3",
      "display_name": "Python 3"
    },
    "language_info": {
      "name": "python"
    }
  },
  "cells": [
    {
      "cell_type": "markdown",
      "metadata": {
        "id": "view-in-github",
        "colab_type": "text"
      },
      "source": [
        "<a href=\"https://colab.research.google.com/github/star114514-mit/ipynbs/blob/main/JmusicBOT.ipynb\" target=\"_parent\"><img src=\"https://colab.research.google.com/assets/colab-badge.svg\" alt=\"Open In Colab\"/></a>"
      ]
    },
    {
      "cell_type": "code",
      "source": [
        "from google.colab import drive\n",
        "drive.mount('/content/drive')"
      ],
      "metadata": {
        "id": "mGfHn28IXO70"
      },
      "execution_count": null,
      "outputs": []
    },
    {
      "cell_type": "code",
      "execution_count": null,
      "metadata": {
        "id": "LmLX5a9fbFvF"
      },
      "outputs": [],
      "source": [
        "!mkdir -p /content/drive/MyDrive/JMusicBot\n",
        "%cd /content/drive/MyDrive\n",
        "!wget -N https://github.com/Cosgy-Dev/JMusicBot-JP/releases/download/0.8.2/JMusicBot-0.8.2.jar\n",
        "!java -jar ./JMusicBot-0.8.2.jar -Dnogui=true"
      ]
    }
  ]
}